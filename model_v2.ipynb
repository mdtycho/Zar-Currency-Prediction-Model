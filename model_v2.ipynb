{
 "cells": [
  {
   "cell_type": "markdown",
   "metadata": {},
   "source": [
    "# Attempting to build a bayesian neural network"
   ]
  },
  {
   "cell_type": "code",
   "execution_count": 1,
   "metadata": {},
   "outputs": [
    {
     "name": "stderr",
     "output_type": "stream",
     "text": [
      "C:\\Users\\ETM05\\Anaconda3\\lib\\site-packages\\h5py\\__init__.py:36: FutureWarning: Conversion of the second argument of issubdtype from `float` to `np.floating` is deprecated. In future, it will be treated as `np.float64 == np.dtype(float).type`.\n",
      "  from ._conv import register_converters as _register_converters\n"
     ]
    }
   ],
   "source": [
    "%matplotlib inline\n",
    "from __future__ import absolute_import\n",
    "from __future__ import division\n",
    "from __future__ import print_function\n",
    "\n",
    "import edward as ed\n",
    "import matplotlib.pyplot as plt\n",
    "import numpy as np\n",
    "import tensorflow as tf\n",
    "\n",
    "from edward.models import Normal\n",
    "\n",
    "plt.style.use('ggplot')"
   ]
  },
  {
   "cell_type": "code",
   "execution_count": 5,
   "metadata": {},
   "outputs": [],
   "source": [
    "import pandas as pd\n",
    "\n",
    "import seaborn as sns"
   ]
  },
  {
   "cell_type": "code",
   "execution_count": 8,
   "metadata": {},
   "outputs": [],
   "source": [
    "# import dataset\n",
    "\n",
    "df = pd.read_csv('zar_dataset.csv')"
   ]
  },
  {
   "cell_type": "code",
   "execution_count": null,
   "metadata": {},
   "outputs": [],
   "source": [
    "def neural_network()"
   ]
  },
  {
   "cell_type": "code",
   "execution_count": 9,
   "metadata": {},
   "outputs": [
    {
     "name": "stdout",
     "output_type": "stream",
     "text": [
      "<class 'pandas.core.frame.DataFrame'>\n",
      "RangeIndex: 4986 entries, 0 to 4985\n",
      "Data columns (total 37 columns):\n",
      "RSI              4986 non-null float64\n",
      "TSI              4986 non-null float64\n",
      "ATR              4986 non-null float64\n",
      "BHBI             4986 non-null float64\n",
      "BBL              4986 non-null float64\n",
      "BBH              4986 non-null float64\n",
      "BLBI             4986 non-null float64\n",
      "BBMAVG           4986 non-null float64\n",
      "DCH              4986 non-null float64\n",
      "DCHI             4986 non-null float64\n",
      "DCL              4986 non-null float64\n",
      "DCLI             4986 non-null float64\n",
      "KCC              4986 non-null float64\n",
      "KCH              4986 non-null float64\n",
      "KCL              4986 non-null float64\n",
      "ADX              4986 non-null float64\n",
      "ADXI             4986 non-null int64\n",
      "ADXN             4986 non-null float64\n",
      "ADXP             4986 non-null float64\n",
      "CCI              4986 non-null float64\n",
      "DPO              4986 non-null float64\n",
      "SEMA             4986 non-null float64\n",
      "LEMA             4986 non-null float64\n",
      "Ichimoku         4986 non-null float64\n",
      "Ichimoku_b       4986 non-null float64\n",
      "KST              4986 non-null float64\n",
      "KST_SIG          4986 non-null float64\n",
      "MACD             4986 non-null float64\n",
      "MACD_DIFF        4986 non-null float64\n",
      "MACD_SIG         4986 non-null float64\n",
      "MI               4986 non-null float64\n",
      "TRIX             4986 non-null float64\n",
      "VIN              4986 non-null float64\n",
      "VIP              4986 non-null float64\n",
      "CR               4986 non-null float64\n",
      "DR               4986 non-null float64\n",
      "target_return    4986 non-null float64\n",
      "dtypes: float64(36), int64(1)\n",
      "memory usage: 1.4 MB\n"
     ]
    }
   ],
   "source": [
    "df.info()"
   ]
  },
  {
   "cell_type": "code",
   "execution_count": null,
   "metadata": {},
   "outputs": [],
   "source": []
  }
 ],
 "metadata": {
  "kernelspec": {
   "display_name": "Python 3",
   "language": "python",
   "name": "python3"
  },
  "language_info": {
   "codemirror_mode": {
    "name": "ipython",
    "version": 3
   },
   "file_extension": ".py",
   "mimetype": "text/x-python",
   "name": "python",
   "nbconvert_exporter": "python",
   "pygments_lexer": "ipython3",
   "version": "3.6.5"
  }
 },
 "nbformat": 4,
 "nbformat_minor": 2
}
